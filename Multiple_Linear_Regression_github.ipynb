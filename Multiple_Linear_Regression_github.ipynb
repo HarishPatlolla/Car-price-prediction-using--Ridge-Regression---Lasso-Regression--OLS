{
 "cells": [
  {
   "cell_type": "markdown",
   "metadata": {},
   "source": [
    "# <font color=\"maroon\"> Prediction of Car price using Multiple Linear Regression </font>"
   ]
  },
  {
   "cell_type": "markdown",
   "metadata": {},
   "source": [
    "# Step 1 : Importing and understanding the structure of the data"
   ]
  },
  {
   "cell_type": "code",
   "execution_count": 507,
   "metadata": {},
   "outputs": [],
   "source": [
    "class color:\n",
    "   PURPLE = '\\033[95m'\n",
    "   CYAN = '\\033[96m'\n",
    "   DARKCYAN = '\\033[36m'\n",
    "   BLUE = '\\033[94m'\n",
    "   GREEN = '\\033[92m'\n",
    "   YELLOW = '\\033[93m'\n",
    "   RED = '\\033[91m'\n",
    "   BOLD = '\\033[1m'\n",
    "   UNDERLINE = '\\033[4m'\n",
    "   END = '\\033[0m'"
   ]
  },
  {
   "cell_type": "code",
   "execution_count": 508,
   "metadata": {},
   "outputs": [
    {
     "data": {
      "text/html": [
       "<div>\n",
       "<style scoped>\n",
       "    .dataframe tbody tr th:only-of-type {\n",
       "        vertical-align: middle;\n",
       "    }\n",
       "\n",
       "    .dataframe tbody tr th {\n",
       "        vertical-align: top;\n",
       "    }\n",
       "\n",
       "    .dataframe thead th {\n",
       "        text-align: right;\n",
       "    }\n",
       "</style>\n",
       "<table border=\"1\" class=\"dataframe\">\n",
       "  <thead>\n",
       "    <tr style=\"text-align: right;\">\n",
       "      <th></th>\n",
       "      <th>car_ID</th>\n",
       "      <th>symboling</th>\n",
       "      <th>CarName</th>\n",
       "      <th>fueltype</th>\n",
       "      <th>aspiration</th>\n",
       "      <th>doornumber</th>\n",
       "      <th>carbody</th>\n",
       "      <th>drivewheel</th>\n",
       "      <th>enginelocation</th>\n",
       "      <th>wheelbase</th>\n",
       "      <th>...</th>\n",
       "      <th>enginesize</th>\n",
       "      <th>fuelsystem</th>\n",
       "      <th>boreratio</th>\n",
       "      <th>stroke</th>\n",
       "      <th>compressionratio</th>\n",
       "      <th>horsepower</th>\n",
       "      <th>peakrpm</th>\n",
       "      <th>citympg</th>\n",
       "      <th>highwaympg</th>\n",
       "      <th>price</th>\n",
       "    </tr>\n",
       "  </thead>\n",
       "  <tbody>\n",
       "    <tr>\n",
       "      <td>0</td>\n",
       "      <td>1</td>\n",
       "      <td>3</td>\n",
       "      <td>alfa-romero giulia</td>\n",
       "      <td>gas</td>\n",
       "      <td>std</td>\n",
       "      <td>two</td>\n",
       "      <td>convertible</td>\n",
       "      <td>rwd</td>\n",
       "      <td>front</td>\n",
       "      <td>88.6</td>\n",
       "      <td>...</td>\n",
       "      <td>130</td>\n",
       "      <td>mpfi</td>\n",
       "      <td>3.47</td>\n",
       "      <td>2.68</td>\n",
       "      <td>9.0</td>\n",
       "      <td>111</td>\n",
       "      <td>5000</td>\n",
       "      <td>21</td>\n",
       "      <td>27</td>\n",
       "      <td>13495.0</td>\n",
       "    </tr>\n",
       "    <tr>\n",
       "      <td>1</td>\n",
       "      <td>2</td>\n",
       "      <td>3</td>\n",
       "      <td>alfa-romero stelvio</td>\n",
       "      <td>gas</td>\n",
       "      <td>std</td>\n",
       "      <td>two</td>\n",
       "      <td>convertible</td>\n",
       "      <td>rwd</td>\n",
       "      <td>front</td>\n",
       "      <td>88.6</td>\n",
       "      <td>...</td>\n",
       "      <td>130</td>\n",
       "      <td>mpfi</td>\n",
       "      <td>3.47</td>\n",
       "      <td>2.68</td>\n",
       "      <td>9.0</td>\n",
       "      <td>111</td>\n",
       "      <td>5000</td>\n",
       "      <td>21</td>\n",
       "      <td>27</td>\n",
       "      <td>16500.0</td>\n",
       "    </tr>\n",
       "    <tr>\n",
       "      <td>2</td>\n",
       "      <td>3</td>\n",
       "      <td>1</td>\n",
       "      <td>alfa-romero Quadrifoglio</td>\n",
       "      <td>gas</td>\n",
       "      <td>std</td>\n",
       "      <td>two</td>\n",
       "      <td>hatchback</td>\n",
       "      <td>rwd</td>\n",
       "      <td>front</td>\n",
       "      <td>94.5</td>\n",
       "      <td>...</td>\n",
       "      <td>152</td>\n",
       "      <td>mpfi</td>\n",
       "      <td>2.68</td>\n",
       "      <td>3.47</td>\n",
       "      <td>9.0</td>\n",
       "      <td>154</td>\n",
       "      <td>5000</td>\n",
       "      <td>19</td>\n",
       "      <td>26</td>\n",
       "      <td>16500.0</td>\n",
       "    </tr>\n",
       "    <tr>\n",
       "      <td>3</td>\n",
       "      <td>4</td>\n",
       "      <td>2</td>\n",
       "      <td>audi 100 ls</td>\n",
       "      <td>gas</td>\n",
       "      <td>std</td>\n",
       "      <td>four</td>\n",
       "      <td>sedan</td>\n",
       "      <td>fwd</td>\n",
       "      <td>front</td>\n",
       "      <td>99.8</td>\n",
       "      <td>...</td>\n",
       "      <td>109</td>\n",
       "      <td>mpfi</td>\n",
       "      <td>3.19</td>\n",
       "      <td>3.40</td>\n",
       "      <td>10.0</td>\n",
       "      <td>102</td>\n",
       "      <td>5500</td>\n",
       "      <td>24</td>\n",
       "      <td>30</td>\n",
       "      <td>13950.0</td>\n",
       "    </tr>\n",
       "    <tr>\n",
       "      <td>4</td>\n",
       "      <td>5</td>\n",
       "      <td>2</td>\n",
       "      <td>audi 100ls</td>\n",
       "      <td>gas</td>\n",
       "      <td>std</td>\n",
       "      <td>four</td>\n",
       "      <td>sedan</td>\n",
       "      <td>4wd</td>\n",
       "      <td>front</td>\n",
       "      <td>99.4</td>\n",
       "      <td>...</td>\n",
       "      <td>136</td>\n",
       "      <td>mpfi</td>\n",
       "      <td>3.19</td>\n",
       "      <td>3.40</td>\n",
       "      <td>8.0</td>\n",
       "      <td>115</td>\n",
       "      <td>5500</td>\n",
       "      <td>18</td>\n",
       "      <td>22</td>\n",
       "      <td>17450.0</td>\n",
       "    </tr>\n",
       "  </tbody>\n",
       "</table>\n",
       "<p>5 rows × 26 columns</p>\n",
       "</div>"
      ],
      "text/plain": [
       "   car_ID  symboling                   CarName fueltype aspiration doornumber  \\\n",
       "0       1          3        alfa-romero giulia      gas        std        two   \n",
       "1       2          3       alfa-romero stelvio      gas        std        two   \n",
       "2       3          1  alfa-romero Quadrifoglio      gas        std        two   \n",
       "3       4          2               audi 100 ls      gas        std       four   \n",
       "4       5          2                audi 100ls      gas        std       four   \n",
       "\n",
       "       carbody drivewheel enginelocation  wheelbase  ...  enginesize  \\\n",
       "0  convertible        rwd          front       88.6  ...         130   \n",
       "1  convertible        rwd          front       88.6  ...         130   \n",
       "2    hatchback        rwd          front       94.5  ...         152   \n",
       "3        sedan        fwd          front       99.8  ...         109   \n",
       "4        sedan        4wd          front       99.4  ...         136   \n",
       "\n",
       "   fuelsystem  boreratio  stroke compressionratio horsepower  peakrpm citympg  \\\n",
       "0        mpfi       3.47    2.68              9.0        111     5000      21   \n",
       "1        mpfi       3.47    2.68              9.0        111     5000      21   \n",
       "2        mpfi       2.68    3.47              9.0        154     5000      19   \n",
       "3        mpfi       3.19    3.40             10.0        102     5500      24   \n",
       "4        mpfi       3.19    3.40              8.0        115     5500      18   \n",
       "\n",
       "   highwaympg    price  \n",
       "0          27  13495.0  \n",
       "1          27  16500.0  \n",
       "2          26  16500.0  \n",
       "3          30  13950.0  \n",
       "4          22  17450.0  \n",
       "\n",
       "[5 rows x 26 columns]"
      ]
     },
     "execution_count": 508,
     "metadata": {},
     "output_type": "execute_result"
    }
   ],
   "source": [
    "import warnings\n",
    "warnings.filterwarnings('ignore')\n",
    "import os\n",
    "import pandas as pd\n",
    "import numpy as np\n",
    "car_price_data=pd.read_csv('CarPrice_Assignment.csv')\n",
    "car_price_data.head()"
   ]
  },
  {
   "cell_type": "code",
   "execution_count": 509,
   "metadata": {},
   "outputs": [
    {
     "name": "stdout",
     "output_type": "stream",
     "text": [
      "\u001b[1mThere are 205 rows  and 26 columns\n"
     ]
    }
   ],
   "source": [
    "shape=car_price_data.shape\n",
    "print(color.BOLD + \"There are \" +str(shape[0])+ \" rows  and \"+str(shape[1])+\" columns\")"
   ]
  },
  {
   "cell_type": "code",
   "execution_count": 510,
   "metadata": {},
   "outputs": [
    {
     "name": "stdout",
     "output_type": "stream",
     "text": [
      "<class 'pandas.core.frame.DataFrame'>\n",
      "RangeIndex: 205 entries, 0 to 204\n",
      "Data columns (total 26 columns):\n",
      "car_ID              205 non-null int64\n",
      "symboling           205 non-null int64\n",
      "CarName             205 non-null object\n",
      "fueltype            205 non-null object\n",
      "aspiration          205 non-null object\n",
      "doornumber          205 non-null object\n",
      "carbody             205 non-null object\n",
      "drivewheel          205 non-null object\n",
      "enginelocation      205 non-null object\n",
      "wheelbase           205 non-null float64\n",
      "carlength           205 non-null float64\n",
      "carwidth            205 non-null float64\n",
      "carheight           205 non-null float64\n",
      "curbweight          205 non-null int64\n",
      "enginetype          205 non-null object\n",
      "cylindernumber      205 non-null object\n",
      "enginesize          205 non-null int64\n",
      "fuelsystem          205 non-null object\n",
      "boreratio           205 non-null float64\n",
      "stroke              205 non-null float64\n",
      "compressionratio    205 non-null float64\n",
      "horsepower          205 non-null int64\n",
      "peakrpm             205 non-null int64\n",
      "citympg             205 non-null int64\n",
      "highwaympg          205 non-null int64\n",
      "price               205 non-null float64\n",
      "dtypes: float64(8), int64(8), object(10)\n",
      "memory usage: 41.8+ KB\n"
     ]
    }
   ],
   "source": [
    "info=car_price_data.info()"
   ]
  },
  {
   "cell_type": "markdown",
   "metadata": {},
   "source": [
    "# Step 2: Pre-processing the data\n",
    "\n",
    "\n",
    "   #### a. Handling the missing values,Dropping the unnecessary columns\n",
    "   #### b. Handling the outliers\n",
    "   #### c. Transforming the skewed variables\n",
    "   #### d. Dummy coding the categorical variables\n",
    "   #### e. Splitting the data\n",
    "   #### e. Scaling the numerical variables in the training dataset as the range impact linear regression results"
   ]
  },
  {
   "cell_type": "markdown",
   "metadata": {},
   "source": [
    "### <font color=\"maroon\"> a. Handling the missing values and feature variables creation"
   ]
  },
  {
   "cell_type": "code",
   "execution_count": 511,
   "metadata": {},
   "outputs": [
    {
     "data": {
      "text/html": [
       "<div>\n",
       "<style scoped>\n",
       "    .dataframe tbody tr th:only-of-type {\n",
       "        vertical-align: middle;\n",
       "    }\n",
       "\n",
       "    .dataframe tbody tr th {\n",
       "        vertical-align: top;\n",
       "    }\n",
       "\n",
       "    .dataframe thead th {\n",
       "        text-align: right;\n",
       "    }\n",
       "</style>\n",
       "<table border=\"1\" class=\"dataframe\">\n",
       "  <thead>\n",
       "    <tr style=\"text-align: right;\">\n",
       "      <th></th>\n",
       "      <th>car_ID</th>\n",
       "      <th>symboling</th>\n",
       "      <th>fueltype</th>\n",
       "      <th>aspiration</th>\n",
       "      <th>doornumber</th>\n",
       "      <th>carbody</th>\n",
       "      <th>drivewheel</th>\n",
       "      <th>enginelocation</th>\n",
       "      <th>wheelbase</th>\n",
       "      <th>carlength</th>\n",
       "      <th>...</th>\n",
       "      <th>fuelsystem</th>\n",
       "      <th>boreratio</th>\n",
       "      <th>stroke</th>\n",
       "      <th>compressionratio</th>\n",
       "      <th>horsepower</th>\n",
       "      <th>peakrpm</th>\n",
       "      <th>citympg</th>\n",
       "      <th>highwaympg</th>\n",
       "      <th>price</th>\n",
       "      <th>Company</th>\n",
       "    </tr>\n",
       "  </thead>\n",
       "  <tbody>\n",
       "  </tbody>\n",
       "</table>\n",
       "<p>0 rows × 26 columns</p>\n",
       "</div>"
      ],
      "text/plain": [
       "Empty DataFrame\n",
       "Columns: [car_ID, symboling, fueltype, aspiration, doornumber, carbody, drivewheel, enginelocation, wheelbase, carlength, carwidth, carheight, curbweight, enginetype, cylindernumber, enginesize, fuelsystem, boreratio, stroke, compressionratio, horsepower, peakrpm, citympg, highwaympg, price, Company]\n",
       "Index: []\n",
       "\n",
       "[0 rows x 26 columns]"
      ]
     },
     "execution_count": 511,
     "metadata": {},
     "output_type": "execute_result"
    }
   ],
   "source": [
    "car_price_data['Company']=car_price_data.CarName.str.split(' ').str[0]\n",
    "car_price_data.Company.unique()\n",
    "car_price_data.drop(columns=['CarName'],inplace=True)\n",
    "\n",
    "\n",
    "#There are some misspelt words in the data set\n",
    "car_price_data.Company.replace('maxda','mazda',inplace=True)\n",
    "car_price_data.Company.replace('Nissan','nissan',inplace=True)\n",
    "car_price_data.Company.replace('porcshce','porsche',inplace=True)\n",
    "car_price_data.Company.replace('toyouta','toyota',inplace=True)\n",
    "car_price_data.Company.replace('vokswagen','volkswagen',inplace=True)\n",
    "car_price_data.Company.replace('vw','volkswagen',inplace=True)\n",
    "\n",
    "#Looking if there ae no duplicates in the columns\n",
    "car_price_data.loc[car_price_data.duplicated()]"
   ]
  },
  {
   "cell_type": "code",
   "execution_count": 512,
   "metadata": {},
   "outputs": [
    {
     "data": {
      "text/plain": [
       "Index([], dtype='object')"
      ]
     },
     "execution_count": 512,
     "metadata": {},
     "output_type": "execute_result"
    }
   ],
   "source": [
    "#No columns with missing values\n",
    "car_price_data.columns[car_price_data.isna().sum()!=0]"
   ]
  },
  {
   "cell_type": "markdown",
   "metadata": {},
   "source": [
    "### <font color=\"maroon\"> b. Handling the outliers\n",
    "An outlier is a data point that differs significantly from other observations. An outlier may be due to variability in the measurement or it may indicate experimental error"
   ]
  },
  {
   "cell_type": "code",
   "execution_count": 519,
   "metadata": {},
   "outputs": [
    {
     "data": {
      "image/png": "[encoded data removed]",
      "text/plain": [
       "<Figure size 1440x216 with 1 Axes>"
      ]
     },
     "metadata": {
      "needs_background": "light"
     },
     "output_type": "display_data"
    },
    {
     "name": "stdout",
     "output_type": "stream",
     "text": [
      "\u001b[1mLooking at the prices above 25000. From looking at the data, we can say that these are the premium cars like bmw,jaguar\n"
     ]
    },
    {
     "data": {
      "text/plain": [
       "0        bmw\n",
       "1     jaguar\n",
       "2      buick\n",
       "3    porsche\n",
       "dtype: object"
      ]
     },
     "execution_count": 519,
     "metadata": {},
     "output_type": "execute_result"
    }
   ],
   "source": [
    "import matplotlib.pyplot as plt\n",
    "import seaborn as sns\n",
    "\n",
    "#Looking at the boxplot of the target variable\n",
    "plt.figure(figsize = (20,3))\n",
    "sns.boxplot(x = 'price', data = car_price_data,color=\"orange\")\n",
    "plt.show()\n",
    "\n",
    "print(color.BOLD+'Looking at the prices above 25000. From looking at the data, we can say that these are the premium cars like bmw,jaguar')\n",
    "pd.Series(car_price_data[car_price_data['price']>25000]['Company'].str.split(' ').str[0].unique())"
   ]
  },
  {
   "cell_type": "markdown",
   "metadata": {},
   "source": [
    "# <font color=\"maroon\"> Exploratory Data Analysis "
   ]
  },
  {
   "cell_type": "code",
   "execution_count": 515,
   "metadata": {},
   "outputs": [],
   "source": [
    "car_price_data.drop(columns=['car_ID'],inplace=True)"
   ]
  },
  {
   "cell_type": "code",
   "execution_count": 516,
   "metadata": {},
   "outputs": [],
   "source": [
    "#Converting the column Symboling to categorical\n",
    "car_price_data['symboling']=car_price_data['symboling'].astype('object')\n",
    "\n",
    "#splitting the columns into numerical and categorical columns\n",
    "numeric_cols_data=car_price_data.select_dtypes(include=['int64','float64'])"
   ]
  },
  {
   "cell_type": "markdown",
   "metadata": {},
   "source": [
    "## <font color=\"green\" >a. Visualizing numeric variables "
   ]
  },
  {
   "cell_type": "code",
   "execution_count": 520,
   "metadata": {},
   "outputs": [
    {
     "data": {
      "text/html": [
       "<div>\n",
       "<style scoped>\n",
       "    .dataframe tbody tr th:only-of-type {\n",
       "        vertical-align: middle;\n",
       "    }\n",
       "\n",
       "    .dataframe tbody tr th {\n",
       "        vertical-align: top;\n",
       "    }\n",
       "\n",
       "    .dataframe thead th {\n",
       "        text-align: right;\n",
       "    }\n",
       "</style>\n",
       "<table border=\"1\" class=\"dataframe\">\n",
       "  <thead>\n",
       "    <tr style=\"text-align: right;\">\n",
       "      <th></th>\n",
       "      <th>wheelbase</th>\n",
       "      <th>carlength</th>\n",
       "      <th>carwidth</th>\n",
       "      <th>carheight</th>\n",
       "      <th>curbweight</th>\n",
       "      <th>enginesize</th>\n",
       "      <th>boreratio</th>\n",
       "      <th>stroke</th>\n",
       "      <th>compressionratio</th>\n",
       "      <th>horsepower</th>\n",
       "      <th>peakrpm</th>\n",
       "      <th>citympg</th>\n",
       "      <th>highwaympg</th>\n",
       "      <th>price</th>\n",
       "    </tr>\n",
       "  </thead>\n",
       "  <tbody>\n",
       "    <tr>\n",
       "      <td>0</td>\n",
       "      <td>88.6</td>\n",
       "      <td>168.8</td>\n",
       "      <td>64.1</td>\n",
       "      <td>48.8</td>\n",
       "      <td>2548</td>\n",
       "      <td>130</td>\n",
       "      <td>3.47</td>\n",
       "      <td>2.68</td>\n",
       "      <td>9.0</td>\n",
       "      <td>111</td>\n",
       "      <td>5000</td>\n",
       "      <td>21</td>\n",
       "      <td>27</td>\n",
       "      <td>13495.0</td>\n",
       "    </tr>\n",
       "    <tr>\n",
       "      <td>1</td>\n",
       "      <td>88.6</td>\n",
       "      <td>168.8</td>\n",
       "      <td>64.1</td>\n",
       "      <td>48.8</td>\n",
       "      <td>2548</td>\n",
       "      <td>130</td>\n",
       "      <td>3.47</td>\n",
       "      <td>2.68</td>\n",
       "      <td>9.0</td>\n",
       "      <td>111</td>\n",
       "      <td>5000</td>\n",
       "      <td>21</td>\n",
       "      <td>27</td>\n",
       "      <td>16500.0</td>\n",
       "    </tr>\n",
       "    <tr>\n",
       "      <td>2</td>\n",
       "      <td>94.5</td>\n",
       "      <td>171.2</td>\n",
       "      <td>65.5</td>\n",
       "      <td>52.4</td>\n",
       "      <td>2823</td>\n",
       "      <td>152</td>\n",
       "      <td>2.68</td>\n",
       "      <td>3.47</td>\n",
       "      <td>9.0</td>\n",
       "      <td>154</td>\n",
       "      <td>5000</td>\n",
       "      <td>19</td>\n",
       "      <td>26</td>\n",
       "      <td>16500.0</td>\n",
       "    </tr>\n",
       "    <tr>\n",
       "      <td>3</td>\n",
       "      <td>99.8</td>\n",
       "      <td>176.6</td>\n",
       "      <td>66.2</td>\n",
       "      <td>54.3</td>\n",
       "      <td>2337</td>\n",
       "      <td>109</td>\n",
       "      <td>3.19</td>\n",
       "      <td>3.40</td>\n",
       "      <td>10.0</td>\n",
       "      <td>102</td>\n",
       "      <td>5500</td>\n",
       "      <td>24</td>\n",
       "      <td>30</td>\n",
       "      <td>13950.0</td>\n",
       "    </tr>\n",
       "    <tr>\n",
       "      <td>4</td>\n",
       "      <td>99.4</td>\n",
       "      <td>176.6</td>\n",
       "      <td>66.4</td>\n",
       "      <td>54.3</td>\n",
       "      <td>2824</td>\n",
       "      <td>136</td>\n",
       "      <td>3.19</td>\n",
       "      <td>3.40</td>\n",
       "      <td>8.0</td>\n",
       "      <td>115</td>\n",
       "      <td>5500</td>\n",
       "      <td>18</td>\n",
       "      <td>22</td>\n",
       "      <td>17450.0</td>\n",
       "    </tr>\n",
       "    <tr>\n",
       "      <td>...</td>\n",
       "      <td>...</td>\n",
       "      <td>...</td>\n",
       "      <td>...</td>\n",
       "      <td>...</td>\n",
       "      <td>...</td>\n",
       "      <td>...</td>\n",
       "      <td>...</td>\n",
       "      <td>...</td>\n",
       "      <td>...</td>\n",
       "      <td>...</td>\n",
       "      <td>...</td>\n",
       "      <td>...</td>\n",
       "      <td>...</td>\n",
       "      <td>...</td>\n",
       "    </tr>\n",
       "    <tr>\n",
       "      <td>200</td>\n",
       "      <td>109.1</td>\n",
       "      <td>188.8</td>\n",
       "      <td>68.9</td>\n",
       "      <td>55.5</td>\n",
       "      <td>2952</td>\n",
       "      <td>141</td>\n",
       "      <td>3.78</td>\n",
       "      <td>3.15</td>\n",
       "      <td>9.5</td>\n",
       "      <td>114</td>\n",
       "      <td>5400</td>\n",
       "      <td>23</td>\n",
       "      <td>28</td>\n",
       "      <td>16845.0</td>\n",
       "    </tr>\n",
       "    <tr>\n",
       "      <td>201</td>\n",
       "      <td>109.1</td>\n",
       "      <td>188.8</td>\n",
       "      <td>68.8</td>\n",
       "      <td>55.5</td>\n",
       "      <td>3049</td>\n",
       "      <td>141</td>\n",
       "      <td>3.78</td>\n",
       "      <td>3.15</td>\n",
       "      <td>8.7</td>\n",
       "      <td>160</td>\n",
       "      <td>5300</td>\n",
       "      <td>19</td>\n",
       "      <td>25</td>\n",
       "      <td>19045.0</td>\n",
       "    </tr>\n",
       "    <tr>\n",
       "      <td>202</td>\n",
       "      <td>109.1</td>\n",
       "      <td>188.8</td>\n",
       "      <td>68.9</td>\n",
       "      <td>55.5</td>\n",
       "      <td>3012</td>\n",
       "      <td>173</td>\n",
       "      <td>3.58</td>\n",
       "      <td>2.87</td>\n",
       "      <td>8.8</td>\n",
       "      <td>134</td>\n",
       "      <td>5500</td>\n",
       "      <td>18</td>\n",
       "      <td>23</td>\n",
       "      <td>21485.0</td>\n",
       "    </tr>\n",
       "    <tr>\n",
       "      <td>203</td>\n",
       "      <td>109.1</td>\n",
       "      <td>188.8</td>\n",
       "      <td>68.9</td>\n",
       "      <td>55.5</td>\n",
       "      <td>3217</td>\n",
       "      <td>145</td>\n",
       "      <td>3.01</td>\n",
       "      <td>3.40</td>\n",
       "      <td>23.0</td>\n",
       "      <td>106</td>\n",
       "      <td>4800</td>\n",
       "      <td>26</td>\n",
       "      <td>27</td>\n",
       "      <td>22470.0</td>\n",
       "    </tr>\n",
       "    <tr>\n",
       "      <td>204</td>\n",
       "      <td>109.1</td>\n",
       "      <td>188.8</td>\n",
       "      <td>68.9</td>\n",
       "      <td>55.5</td>\n",
       "      <td>3062</td>\n",
       "      <td>141</td>\n",
       "      <td>3.78</td>\n",
       "      <td>3.15</td>\n",
       "      <td>9.5</td>\n",
       "      <td>114</td>\n",
       "      <td>5400</td>\n",
       "      <td>19</td>\n",
       "      <td>25</td>\n",
       "      <td>22625.0</td>\n",
       "    </tr>\n",
       "  </tbody>\n",
       "</table>\n",
       "<p>205 rows × 14 columns</p>\n",
       "</div>"
      ],
      "text/plain": [
       "     wheelbase  carlength  carwidth  carheight  curbweight  enginesize  \\\n",
       "0         88.6      168.8      64.1       48.8        2548         130   \n",
       "1         88.6      168.8      64.1       48.8        2548         130   \n",
       "2         94.5      171.2      65.5       52.4        2823         152   \n",
       "3         99.8      176.6      66.2       54.3        2337         109   \n",
       "4         99.4      176.6      66.4       54.3        2824         136   \n",
       "..         ...        ...       ...        ...         ...         ...   \n",
       "200      109.1      188.8      68.9       55.5        2952         141   \n",
       "201      109.1      188.8      68.8       55.5        3049         141   \n",
       "202      109.1      188.8      68.9       55.5        3012         173   \n",
       "203      109.1      188.8      68.9       55.5        3217         145   \n",
       "204      109.1      188.8      68.9       55.5        3062         141   \n",
       "\n",
       "     boreratio  stroke  compressionratio  horsepower  peakrpm  citympg  \\\n",
       "0         3.47    2.68               9.0         111     5000       21   \n",
       "1         3.47    2.68               9.0         111     5000       21   \n",
       "2         2.68    3.47               9.0         154     5000       19   \n",
       "3         3.19    3.40              10.0         102     5500       24   \n",
       "4         3.19    3.40               8.0         115     5500       18   \n",
       "..         ...     ...               ...         ...      ...      ...   \n",
       "200       3.78    3.15               9.5         114     5400       23   \n",
       "201       3.78    3.15               8.7         160     5300       19   \n",
       "202       3.58    2.87               8.8         134     5500       18   \n",
       "203       3.01    3.40              23.0         106     4800       26   \n",
       "204       3.78    3.15               9.5         114     5400       19   \n",
       "\n",
       "     highwaympg    price  \n",
       "0            27  13495.0  \n",
       "1            27  16500.0  \n",
       "2            26  16500.0  \n",
       "3            30  13950.0  \n",
       "4            22  17450.0  \n",
       "..          ...      ...  \n",
       "200          28  16845.0  \n",
       "201          25  19045.0  \n",
       "202          23  21485.0  \n",
       "203          27  22470.0  \n",
       "204          25  22625.0  \n",
       "\n",
       "[205 rows x 14 columns]"
      ]
     },
     "execution_count": 520,
     "metadata": {},
     "output_type": "execute_result"
    }
   ],
   "source": [
    "numeric_cols_data"
   ]
  },
  {
   "cell_type": "code",
   "execution_count": 521,
   "metadata": {},
   "outputs": [
    {
     "name": "stdout",
     "output_type": "stream",
     "text": [
      "\u001b[1mThe skewness of the variables are \n"
     ]
    },
    {
     "data": {
      "text/plain": [
       "wheelbase           1.050214\n",
       "carlength           0.155954\n",
       "carwidth            0.904003\n",
       "carheight           0.063123\n",
       "curbweight          0.681398\n",
       "enginesize          1.947655\n",
       "boreratio           0.020156\n",
       "stroke             -0.689705\n",
       "compressionratio    2.610862\n",
       "horsepower          1.405310\n",
       "peakrpm             0.075159\n",
       "citympg             0.663704\n",
       "highwaympg          0.539997\n",
       "price               1.777678\n",
       "dtype: float64"
      ]
     },
     "execution_count": 521,
     "metadata": {},
     "output_type": "execute_result"
    }
   ],
   "source": [
    "print(color.BOLD + 'The skewness of the variables are ')\n",
    "numeric_cols_data.skew(axis = 0, skipna = True,numeric_only=True) "
   ]
  },
  {
   "cell_type": "markdown",
   "metadata": {},
   "source": [
    "Most of the variables look like normally distributed. The variables are not skewed"
   ]
  },
  {
   "cell_type": "markdown",
   "metadata": {},
   "source": [
    "### Correlation Analysis\n",
    "\n",
    "#### Creating a correlation matrix to look at the issue of multi-collinearity ( correlation among the predictors). Correlation analysis is one of the methods used to decide which features affect the target variable the most, and in turn, get used in predicting this target variable. In other words, it’s a commonly-used method for feature selection in machine learning\n"
   ]
  },
  {
   "cell_type": "code",
   "execution_count": 522,
   "metadata": {},
   "outputs": [
    {
     "data": {
      "text/plain": [
       "(14.5, -0.5)"
      ]
     },
     "execution_count": 522,
     "metadata": {},
     "output_type": "execute_result"
    },
    {
     "data": {
      "image/png": "[encoded data removed]",
      "text/plain": [
       "<Figure size 720x432 with 2 Axes>"
      ]
     },
     "metadata": {
      "needs_background": "light"
     },
     "output_type": "display_data"
    }
   ],
   "source": [
    "plt.figure(figsize = (10,6))\n",
    "ax=sns.heatmap(numeric_cols_data.corr(), annot=True,fmt='.1g')\n",
    "bottom, top = ax.get_ylim()\n",
    "ax.set_ylim(bottom + 1, top -1)"
   ]
  },
  {
   "cell_type": "markdown",
   "metadata": {},
   "source": [
    "#### Insights from the correlation analysis\n",
    "    1. Target (Price of the car) is highly correlated with enginesize,carwidth,horsepower,mileage of the car.Price is negatively correlated with the mileage and positively correlated with engine size,car width, car length\n",
    "    2. Predictors share lots of variance among themselves (Multi-collinearity)\n",
    "       For example, wheelbase is highly correlated with car length and car width. Horse power is     \n",
    "                    highly correlated with the mileage \n",
    "       Therefore variable selection methods/ Principal component analysis have to be performed to handle this problem"
   ]
  },
  {
   "cell_type": "markdown",
   "metadata": {},
   "source": [
    "### 1st Method: \n",
    "### Finding principal component for the numeric variables"
   ]
  },
  {
   "cell_type": "code",
   "execution_count": 523,
   "metadata": {},
   "outputs": [],
   "source": [
    "x=numeric_cols_data.loc[:,numeric_cols_data.columns !='price']\n",
    "y=numeric_cols_data.loc[:,numeric_cols_data.columns =='price']"
   ]
  },
  {
   "cell_type": "code",
   "execution_count": 530,
   "metadata": {},
   "outputs": [
    {
     "name": "stdout",
     "output_type": "stream",
     "text": [
      "\u001b[1m we can choose 4 principal components that explains about 90% of the variance\n"
     ]
    },
    {
     "data": {
      "image/png": "[encoded data removed]",
      "text/plain": [
       "<Figure size 720x288 with 1 Axes>"
      ]
     },
     "metadata": {
      "needs_background": "light"
     },
     "output_type": "display_data"
    }
   ],
   "source": [
    "from sklearn.preprocessing import StandardScaler\n",
    "from sklearn.decomposition import PCA\n",
    "\n",
    "x_standard = StandardScaler().fit_transform(x)\n",
    "pca=PCA()\n",
    "pca.fit_transform(x_standard)\n",
    "\n",
    "# Plotting and choosing number of PCs based on the explained variance\n",
    "plt.figure(figsize=(10,4))\n",
    "\n",
    "#Barchart showing pc's vs explained variance\n",
    "plt.bar(range(pca.components_.shape[1]), pca.explained_variance_ratio_, alpha=0.5,align='center',\n",
    "            label='individual explained variance',color=\"orange\")\n",
    "\n",
    "#Step chart showing pc's vs cumulative explained variance\n",
    "plt.step(range(pca.components_.shape[1]), np.cumsum(pca.explained_variance_ratio_), where='mid',\n",
    "             label='cumulative explained variance',color=\"black\")\n",
    "plt.ylabel('Explained variance')\n",
    "plt.xlabel('Number of Principal components')\n",
    "plt.title('Principal Components vs Explained Variance')\n",
    "plt.legend(loc='best')\n",
    "plt.tight_layout()\n",
    "\n",
    "print( color.BOLD+ \" we can choose 4 principal components that explains about 90% of the variance\")"
   ]
  },
  {
   "cell_type": "markdown",
   "metadata": {},
   "source": [
    "### 2nd Method :\n",
    "### Find the important numeric predictors using the Ridge Regression\n",
    "\n",
    "Ridge Regression shrinks coefficients to a value near 0. It keeps all the predictor variables in the model. It uses L2 regularization"
   ]
  },
  {
   "cell_type": "code",
   "execution_count": 534,
   "metadata": {},
   "outputs": [
    {
     "name": "stdout",
     "output_type": "stream",
     "text": [
      "The optimum shrinkage parameter for Ridge Regression value looks like 1\n"
     ]
    },
    {
     "data": {
      "image/png": "[encoded data removed]",
      "text/plain": [
       "<Figure size 432x288 with 1 Axes>"
      ]
     },
     "metadata": {
      "needs_background": "light"
     },
     "output_type": "display_data"
    }
   ],
   "source": [
    "#choosing set of alpha values to try\n",
    "alphas = [0.05, 0.1, 0.3, 1, 3, 5, 10, 15, 30, 50, 75,100,250,500,1000,2000]\n",
    "\n",
    "#Caluculation of root mean square error for different sets of alpha.\n",
    "#This is done to use the effective shrinkage parameter alpha\n",
    "\n",
    "\n",
    "def rmse_cv(model):\n",
    "    rmse= np.sqrt(-cross_val_score(model, x, y, scoring=\"neg_mean_squared_error\", cv = 5))\n",
    "    return(rmse)\n",
    "\n",
    "#calculation of mean of the average squared error for each alpha for Ridge Regression\n",
    "cv_ridge = [rmse_cv(Ridge(alpha = alpha)).mean()  for alpha in alphas]\n",
    "\n",
    "#indexing the cross validation errors with alpha value\n",
    "cv_ridge = pd.Series(cv_ridge, index = alphas)\n",
    "\n",
    "#Plotting error against alpha to choose the best one\n",
    "cv_ridge.plot(title = \"Validation Error Rate\")\n",
    "plt.xlabel(\"alpha\")\n",
    "plt.xlim(-2,2000)\n",
    "plt.ylabel(\"Root Mean Square Error\")\n",
    "print('The optimum shrinkage parameter for Ridge Regression value looks like 1')"
   ]
  },
  {
   "cell_type": "code",
   "execution_count": 541,
   "metadata": {},
   "outputs": [
    {
     "name": "stdout",
     "output_type": "stream",
     "text": [
      "\u001b[1mThe mean square error on using Ridge Regression is \n",
      " \n",
      " \n",
      "\u001b[1mThe selected variables using Ridge regression are \n"
     ]
    },
    {
     "data": {
      "text/plain": [
       "wheelbase            53.624971\n",
       "carlength            -9.629953\n",
       "carwidth             46.491453\n",
       "carheight            44.507858\n",
       "curbweight            3.992487\n",
       "enginesize           98.341228\n",
       "boreratio            -0.781242\n",
       "stroke              -23.080786\n",
       "compressionratio    113.016086\n",
       "horsepower           38.023735\n",
       "peakrpm               2.127976\n",
       "citympg              -3.929352\n",
       "highwaympg           17.989266\n",
       "dtype: float64"
      ]
     },
     "execution_count": 541,
     "metadata": {},
     "output_type": "execute_result"
    }
   ],
   "source": [
    "###Model Ridge regression\n",
    "from sklearn.linear_model import Ridge, RidgeCV, ElasticNet, LassoCV, LassoLarsCV\n",
    "from sklearn.model_selection import cross_val_score\n",
    "\n",
    "\n",
    "model_ridge = RidgeCV(alphas =[2000]).fit(x, y)\n",
    "\n",
    "\n",
    "print(color.BOLD+'The mean square error on using Ridge Regression is ')\n",
    "rmse_cv(model_ridge).mean()\n",
    "print(' \\n ')\n",
    "print(color.BOLD+'The selected variables using Ridge regression are ')\n",
    "coef = pd.Series(model_ridge.coef_.reshape(13,),index=x.columns)\n",
    "coef"
   ]
  },
  {
   "cell_type": "markdown",
   "metadata": {},
   "source": [
    "### 3rd Method :\n",
    "### Find the important numeric predictors using the Lasso Regression\n",
    "\n",
    "Lasso Regression shrinks few coefficients to  0. It doesn't keeps all the predictor variables in the model. It uses L1 regularization"
   ]
  },
  {
   "cell_type": "code",
   "execution_count": 542,
   "metadata": {},
   "outputs": [
    {
     "name": "stdout",
     "output_type": "stream",
     "text": [
      "\u001b[1mThe optimum shrinkage parameter for Lasso Regression value looks like a value very close to 0\n"
     ]
    },
    {
     "data": {
      "image/png": "[encoded data removed]",
      "text/plain": [
       "<Figure size 432x288 with 1 Axes>"
      ]
     },
     "metadata": {
      "needs_background": "light"
     },
     "output_type": "display_data"
    }
   ],
   "source": [
    "#choosing set of alpha values to try\n",
    "alphas = [0.05, 0.1, 0.3, 1, 3, 5, 10, 15, 30, 50, 75,100,150,200,250,500,1000,2000]\n",
    "\n",
    "#Caluculation of root mean square error for different sets of alpha.\n",
    "#This is done to use the effective shrinkage parameter alpha\n",
    "\n",
    "\n",
    "def rmse_cv(model):\n",
    "    rmse= np.sqrt(-cross_val_score(model, x, y, scoring=\"neg_mean_squared_error\", cv = 5))\n",
    "    return(rmse)\n",
    "\n",
    "#calculation of mean of the average squared error for each alpha for Ridge Regression\n",
    "cv_lasso = [rmse_cv(Lasso(alpha = alpha)).mean()  for alpha in alphas]\n",
    "\n",
    "#indexing the cross validation errors with alpha value\n",
    "cv_lasso = pd.Series(cv_lasso, index = alphas)\n",
    "\n",
    "#Plotting error against alpha to choose the best one\n",
    "cv_lasso.plot(title = \"Validation Error Rate\")\n",
    "plt.xlabel(\"alpha\")\n",
    "plt.xlim(-2,2000)\n",
    "plt.ylabel(\"Root Mean Square Error\")\n",
    "print(color.BOLD+ 'The optimum shrinkage parameter for Lasso Regression value looks like a value very close to 0')"
   ]
  },
  {
   "cell_type": "code",
   "execution_count": 552,
   "metadata": {},
   "outputs": [
    {
     "name": "stdout",
     "output_type": "stream",
     "text": [
      "\u001b[1mThe mean square error is 3907.959848093844\n",
      " \n",
      " \n",
      "\u001b[1mThe selected variables using LASSO regression are \n"
     ]
    },
    {
     "data": {
      "text/plain": [
       "curbweight           5.211855\n",
       "enginesize          97.851063\n",
       "compressionratio    31.504491\n",
       "horsepower          24.475784\n",
       "peakrpm              2.016219\n",
       "dtype: float64"
      ]
     },
     "execution_count": 552,
     "metadata": {},
     "output_type": "execute_result"
    }
   ],
   "source": [
    "###Model Lasso regression\n",
    "from sklearn.linear_model import Ridge, RidgeCV, ElasticNet, LassoCV, LassoLarsCV\n",
    "from sklearn.model_selection import cross_val_score\n",
    "\n",
    "\n",
    "model_lasso = LassoCV(alphas =[2000]).fit(x, y)\n",
    "\n",
    "\n",
    "print(color.BOLD+\"The mean square error is \"+ str(rmse_cv(model_lasso).mean()))\n",
    "print(' \\n ')\n",
    "\n",
    "###Model Lasso regression\n",
    "\n",
    "print(color.BOLD+'The selected variables using LASSO regression are ')\n",
    "coef = pd.Series(model_lasso.coef_, index = x.columns)\n",
    "coef[coef !=0 ]"
   ]
  },
  {
   "cell_type": "markdown",
   "metadata": {},
   "source": [
    "## <font color=\"orange\">b. Visualizing categorical variables "
   ]
  },
  {
   "cell_type": "code",
   "execution_count": 553,
   "metadata": {},
   "outputs": [],
   "source": [
    "# #Selecting lasso output variables and all the categorical variables\n",
    "\n",
    "# Filtered_dataset=car_price_data[['curbweight','enginesize','compressionratio','horsepower','peakrpm','price']]\n",
    "\n",
    "# #Filtered_dataset=car_price_data[['wheelbase', 'carlength', 'carwidth', 'carheight', 'curbweight','symboling','fueltype','aspiration','doornumber','carbody','drivewheel','enginelocation','enginetype','cylindernumber','fuelsystem','Company','price']]"
   ]
  },
  {
   "cell_type": "code",
   "execution_count": 555,
   "metadata": {},
   "outputs": [
    {
     "name": "stdout",
     "output_type": "stream",
     "text": [
      "\u001b[1mThe categorical variables are\n"
     ]
    },
    {
     "data": {
      "text/plain": [
       "Index(['symboling', 'fueltype', 'aspiration', 'doornumber', 'carbody',\n",
       "       'drivewheel', 'enginelocation', 'enginetype', 'cylindernumber',\n",
       "       'fuelsystem', 'Company'],\n",
       "      dtype='object')"
      ]
     },
     "execution_count": 555,
     "metadata": {},
     "output_type": "execute_result"
    }
   ],
   "source": [
    "categorical_cols=car_price_data.select_dtypes(include=['object']).columns\n",
    "print(color.BOLD+ 'The categorical variables are')\n",
    "categorical_cols"
   ]
  },
  {
   "cell_type": "markdown",
   "metadata": {},
   "source": [
    "#### Inference from the bar graphs\n",
    "    1.Toyota looks like the mostly sold car\n",
    "    2.There is more demand for the gas fuelled vehicles than the diesel ones\n",
    "    3.Understandbly most of the vehicles in the data have engine in the front side\n",
    "    4.There are more sedans followed by hatchbacks  when comapred to other sections \n",
    "    5.There are dominatly more cars with 4 cylinders "
   ]
  },
  {
   "cell_type": "markdown",
   "metadata": {},
   "source": [
    "### <font color=\"brown\"> 1. Impact of the fuel type on the price of the car"
   ]
  },
  {
   "cell_type": "code",
   "execution_count": 564,
   "metadata": {},
   "outputs": [
    {
     "data": {
      "image/png": "[encoded data removed]",
      "text/plain": [
       "<Figure size 432x288 with 1 Axes>"
      ]
     },
     "metadata": {
      "needs_background": "light"
     },
     "output_type": "display_data"
    },
    {
     "name": "stdout",
     "output_type": "stream",
     "text": [
      " Cars that use gas have lower mean price when compared to the ones that use diesel.This is very intuituive because generally trucks which use diesel are expensive when compared to the sedans\n"
     ]
    }
   ],
   "source": [
    "sns.boxplot(x='fueltype',y='price',data=car_price_data)\n",
    "plt.show()\n",
    "print(' Cars that use gas have lower mean price when compared to the ones that use diesel.This is very intuituive because generally trucks which use diesel are expensive when compared to the sedans')"
   ]
  },
  {
   "cell_type": "code",
   "execution_count": 568,
   "metadata": {},
   "outputs": [
    {
     "data": {
      "image/png": "[encoded data removed]",
      "text/plain": [
       "<Figure size 432x288 with 1 Axes>"
      ]
     },
     "metadata": {
      "needs_background": "light"
     },
     "output_type": "display_data"
    }
   ],
   "source": [
    "sns.boxplot(x='cylindernumber',y='price',data=car_price_data)\n",
    "plt.show()"
   ]
  },
  {
   "cell_type": "markdown",
   "metadata": {},
   "source": [
    "## <font color=\"maroon\"> c. Transforming the skewed variables"
   ]
  },
  {
   "cell_type": "markdown",
   "metadata": {},
   "source": [
    "Most of the data looks like normal distributed. The variables needn't be transformed"
   ]
  },
  {
   "cell_type": "markdown",
   "metadata": {},
   "source": [
    "## <font color=\"maroon\"> d. Dummy coding the categorical variables"
   ]
  },
  {
   "cell_type": "code",
   "execution_count": 569,
   "metadata": {},
   "outputs": [],
   "source": [
    "def dummy_coding(column,df):\n",
    "    temp = pd.get_dummies(df[column], drop_first = True)\n",
    "    df = pd.concat([df, temp], axis = 1)\n",
    "    df.drop([column], axis = 1, inplace = True)\n",
    "    return df"
   ]
  },
  {
   "cell_type": "code",
   "execution_count": 570,
   "metadata": {},
   "outputs": [],
   "source": [
    "# Applying the function to create dummy variables\n",
    "\n",
    "car_price_data = dummy_coding('symboling',car_price_data)\n",
    "car_price_data = dummy_coding('fueltype',car_price_data)\n",
    "car_price_data = dummy_coding('aspiration',car_price_data)\n",
    "car_price_data = dummy_coding('doornumber',car_price_data)\n",
    "car_price_data = dummy_coding('carbody',car_price_data)\n",
    "car_price_data = dummy_coding('drivewheel',car_price_data)\n",
    "car_price_data = dummy_coding('enginelocation',car_price_data)\n",
    "car_price_data = dummy_coding('enginetype',car_price_data)\n",
    "car_price_data = dummy_coding('cylindernumber',car_price_data)\n",
    "car_price_data = dummy_coding('fuelsystem',car_price_data)\n",
    "car_price_data = dummy_coding('Company',car_price_data)"
   ]
  },
  {
   "cell_type": "markdown",
   "metadata": {},
   "source": [
    "## <font color=\"maroon\"> e. Splitting the data into train and test"
   ]
  },
  {
   "cell_type": "code",
   "execution_count": 580,
   "metadata": {},
   "outputs": [
    {
     "data": {
      "text/plain": [
       "pandas.core.frame.DataFrame"
      ]
     },
     "execution_count": 580,
     "metadata": {},
     "output_type": "execute_result"
    }
   ],
   "source": [
    "type(car_price_data)"
   ]
  },
  {
   "cell_type": "code",
   "execution_count": 581,
   "metadata": {},
   "outputs": [],
   "source": [
    "car_price_data.drop(columns=['wheelbase', 'carlength', 'carwidth', 'carheight','boreratio','stroke','citympg','highwaympg'],inplace=True)"
   ]
  },
  {
   "cell_type": "code",
   "execution_count": 582,
   "metadata": {},
   "outputs": [],
   "source": [
    "from sklearn.model_selection import train_test_split\n",
    "np.random.seed(0)\n",
    "df_train, df_test = train_test_split(car_price_data, train_size = 0.7, test_size = 0.3, random_state = 100)\n",
    "\n",
    "#Defining Target variable for the training data set\n",
    "Y_train = df_train.pop('price')\n",
    "X_train = df_train\n",
    "\n",
    "#Defining Target variable for the training data set\n",
    "Y_test = df_test.pop('price')\n",
    "X_test = df_test\n"
   ]
  },
  {
   "cell_type": "markdown",
   "metadata": {},
   "source": [
    "#  Step 3: Buidling the model before binning the categorical variables"
   ]
  },
  {
   "cell_type": "code",
   "execution_count": 583,
   "metadata": {},
   "outputs": [
    {
     "data": {
      "text/plain": [
       "LinearRegression(copy_X=True, fit_intercept=True, n_jobs=None, normalize=False)"
      ]
     },
     "execution_count": 583,
     "metadata": {},
     "output_type": "execute_result"
    }
   ],
   "source": [
    "from sklearn.feature_selection import RFE # Importing recursive feature elimination (stepwise)\n",
    "from sklearn.linear_model import LinearRegression\n",
    "import statsmodels.api as sm \n",
    "from statsmodels.stats.outliers_influence import variance_inflation_factor\n",
    "\n",
    "Regression_model = LinearRegression()\n",
    "Regression_model.fit(X_train,Y_train)\n",
    "\n",
    "# #Performing recursive feature eliminate to choose top 10 features\n",
    "# rfe = RFE(Regression_model, 10)\n",
    "# rfe = rfe.fit(X_train, Y_train)\n",
    "# list(zip(X_train.columns,rfe.support_,rfe.ranking_))"
   ]
  },
  {
   "cell_type": "code",
   "execution_count": 584,
   "metadata": {},
   "outputs": [
    {
     "name": "stdout",
     "output_type": "stream",
     "text": [
      "                            OLS Regression Results                            \n",
      "==============================================================================\n",
      "Dep. Variable:                  price   R-squared:                       0.961\n",
      "Model:                            OLS   Adj. R-squared:                  0.938\n",
      "Method:                 Least Squares   F-statistic:                     41.68\n",
      "Date:                Wed, 04 Mar 2020   Prob (F-statistic):           4.70e-45\n",
      "Time:                        19:47:02   Log-Likelihood:                -1251.6\n",
      "No. Observations:                 143   AIC:                             2611.\n",
      "Df Residuals:                      89   BIC:                             2771.\n",
      "Df Model:                          53                                         \n",
      "Covariance Type:            nonrobust                                         \n",
      "====================================================================================\n",
      "                       coef    std err          t      P>|t|      [0.025      0.975]\n",
      "------------------------------------------------------------------------------------\n",
      "const            -2.003e+04   8785.359     -2.280      0.025   -3.75e+04   -2574.397\n",
      "curbweight           4.5858      1.743      2.631      0.010       1.123       8.049\n",
      "enginesize          72.2014     32.909      2.194      0.031       6.812     137.591\n",
      "compressionratio   664.7024    678.531      0.980      0.330    -683.524    2012.929\n",
      "horsepower          39.5868     34.279      1.155      0.251     -28.524     107.698\n",
      "peakrpm              2.6958      0.923      2.922      0.004       0.863       4.529\n",
      "-1                4993.7973   1927.302      2.591      0.011    1164.289    8823.305\n",
      "0                 3759.7244   2398.366      1.568      0.121   -1005.778    8525.226\n",
      "1                 4227.6902   2438.463      1.734      0.086    -617.485    9072.865\n",
      "2                 3897.8581   2418.940      1.611      0.111    -908.525    8704.241\n",
      "3                 3576.2040   2455.184      1.457      0.149   -1302.194    8454.602\n",
      "gas              -6719.9456   2955.125     -2.274      0.025   -1.26e+04    -848.175\n",
      "turbo             1828.1132   1231.192      1.485      0.141    -618.240    4274.466\n",
      "two               -435.4145    650.214     -0.670      0.505   -1727.376     856.547\n",
      "hardtop          -3278.1822   2451.634     -1.337      0.185   -8149.528    1593.163\n",
      "hatchback        -2693.2206   1763.704     -1.527      0.130   -6197.664     811.223\n",
      "sedan            -2813.0613   1817.685     -1.548      0.125   -6424.762     798.640\n",
      "wagon            -3263.0386   1899.956     -1.717      0.089   -7038.211     512.134\n",
      "fwd                338.5668   1030.351      0.329      0.743   -1708.719    2385.853\n",
      "rwd                188.3198   1440.026      0.131      0.896   -2672.981    3049.620\n",
      "rear              6554.6859   2448.082      2.677      0.009    1690.399    1.14e+04\n",
      "dohcv            -7086.9078   5854.547     -1.210      0.229   -1.87e+04    4545.952\n",
      "l                  391.0031   1916.438      0.204      0.839   -3416.917    4198.924\n",
      "ohc               3825.7174   1578.778      2.423      0.017     688.720    6962.715\n",
      "ohcf              3065.2210   1515.790      2.022      0.046      53.379    6077.063\n",
      "ohcv              -301.4772   1637.714     -0.184      0.854   -3555.579    2952.625\n",
      "rotor              358.8838   2473.887      0.145      0.885   -4556.677    5274.444\n",
      "five             -7835.9778   2807.373     -2.791      0.006   -1.34e+04   -2257.788\n",
      "four             -6446.3083   3675.542     -1.754      0.083   -1.37e+04     856.916\n",
      "six              -6261.1967   3413.843     -1.834      0.070    -1.3e+04     522.036\n",
      "three             1648.3917   3076.873      0.536      0.593   -4465.289    7762.072\n",
      "twelve           -1.414e+04   6549.107     -2.159      0.034   -2.72e+04   -1127.521\n",
      "two                358.8838   2473.887      0.145      0.885   -4556.677    5274.444\n",
      "2bbl               638.1321   2351.800      0.271      0.787   -4034.843    5311.108\n",
      "4bbl             -1247.5539   3256.944     -0.383      0.703   -7719.032    5223.924\n",
      "idi              -1.331e+04   8667.635     -1.536      0.128   -3.05e+04    3911.635\n",
      "mfi               1.071e-12    3.1e-12      0.345      0.731   -5.09e-12    7.23e-12\n",
      "mpfi              -358.1744   2565.918     -0.140      0.889   -5456.599    4740.250\n",
      "spdi              -759.2538   2742.490     -0.277      0.783   -6208.524    4690.016\n",
      "spfi             -4.867e-12   4.77e-12     -1.020      0.311   -1.44e-11    4.62e-12\n",
      "audi              -440.7487   3117.765     -0.141      0.888   -6635.681    5754.183\n",
      "bmw               5183.2613   2518.782      2.058      0.043     178.495    1.02e+04\n",
      "buick              803.0461   3667.089      0.219      0.827   -6483.381    8089.473\n",
      "chevrolet        -5075.2343   2368.975     -2.142      0.035   -9782.338    -368.131\n",
      "dodge            -5890.5313   2161.800     -2.725      0.008   -1.02e+04   -1595.081\n",
      "honda            -5531.6611   2848.909     -1.942      0.055   -1.12e+04     129.060\n",
      "isuzu            -3697.8846   2174.866     -1.700      0.093   -8019.298     623.529\n",
      "jaguar            3704.5614   3381.946      1.095      0.276   -3015.293    1.04e+04\n",
      "mazda            -3607.9087   1914.676     -1.884      0.063   -7412.329     196.512\n",
      "mercury          -1.492e-12   9.54e-13     -1.564      0.121   -3.39e-12    4.03e-13\n",
      "mitsubishi       -6795.4501   2212.861     -3.071      0.003   -1.12e+04   -2398.542\n",
      "nissan           -4706.7911   1894.041     -2.485      0.015   -8470.210    -943.372\n",
      "peugeot          -1257.3886   2061.027     -0.610      0.543   -5352.605    2837.827\n",
      "plymouth         -6035.4861   2240.301     -2.694      0.008   -1.05e+04   -1584.055\n",
      "porsche            667.0438   3044.349      0.219      0.827   -5382.014    6716.101\n",
      "renault          -5826.1315   2599.581     -2.241      0.028    -1.1e+04    -660.820\n",
      "saab             -2365.8288   2440.610     -0.969      0.335   -7215.269    2483.611\n",
      "subaru           -3489.4649   1747.950     -1.996      0.049   -6962.605     -16.325\n",
      "toyota           -4028.5872   1765.344     -2.282      0.025   -7536.288    -520.886\n",
      "volkswagen       -3724.9991   2106.661     -1.768      0.080   -7910.889     460.891\n",
      "volvo            -2155.4486   2720.709     -0.792      0.430   -7561.440    3250.543\n",
      "==============================================================================\n",
      "Omnibus:                       42.406   Durbin-Watson:                   2.056\n",
      "Prob(Omnibus):                  0.000   Jarque-Bera (JB):              139.684\n",
      "Skew:                           1.073   Prob(JB):                     4.66e-31\n",
      "Kurtosis:                       7.340   Cond. No.                     1.00e+16\n",
      "==============================================================================\n",
      "\n",
      "Warnings:\n",
      "[1] Standard Errors assume that the covariance matrix of the errors is correctly specified.\n",
      "[2] The smallest eigenvalue is 4.68e-23. This might indicate that there are\n",
      "strong multicollinearity problems or that the design matrix is singular.\n"
     ]
    }
   ],
   "source": [
    "X = sm.add_constant(X_train) #Adding the constant\n",
    "lm = sm.OLS(Y_train,X).fit() # fitting the model\n",
    "print(lm.summary()) # model summary"
   ]
  }
 ],
 "metadata": {
  "kernelspec": {
   "display_name": "Python 3",
   "language": "python",
   "name": "python3"
  },
  "language_info": {
   "codemirror_mode": {
    "name": "ipython",
    "version": 3
   },
   "file_extension": ".py",
   "mimetype": "text/x-python",
   "name": "python",
   "nbconvert_exporter": "python",
   "pygments_lexer": "ipython3",
   "version": "3.7.4"
  }
 },
 "nbformat": 4,
 "nbformat_minor": 2
}
